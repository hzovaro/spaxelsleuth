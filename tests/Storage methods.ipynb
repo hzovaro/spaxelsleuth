{
 "cells": [
  {
   "cell_type": "markdown",
   "metadata": {},
   "source": [
    "# Testing different storage methods \n",
    "---\n",
    "See if there's a better way to read/write the data in different formats.\n",
    "Want to \n",
    "1) speed up read/write time \n",
    "2) find a way to store metadata in the file without having to save as columns\n",
    "3) save disk space (compression?)\n",
    "\n",
    "\n",
    "Try/investigate:\n",
    "- pytables\n",
    "- sqlite\n",
    "- parquet\n",
    "- apache arrow"
   ]
  },
  {
   "cell_type": "code",
   "execution_count": null,
   "metadata": {},
   "outputs": [],
   "source": [
    "from spaxelsleuth import load_user_config\n",
    "try:\n",
    "    load_user_config(\"/Users/u5708159/Desktop/spaxelsleuth_test/.myconfig.json\")\n",
    "except FileNotFoundError:\n",
    "    load_user_config(\"/home/u5708159/.spaxelsleuthconfig.json\")\n",
    "from spaxelsleuth.loaddata.sami import load_sami_df"
   ]
  },
  {
   "cell_type": "code",
   "execution_count": null,
   "metadata": {},
   "outputs": [],
   "source": [
    "DEBUG = False"
   ]
  },
  {
   "cell_type": "code",
   "execution_count": null,
   "metadata": {},
   "outputs": [],
   "source": [
    "# Load the DataFrame\n",
    "df = load_sami_df(ncomponents=\"recom\",\n",
    "                bin_type=\"default\",\n",
    "                eline_SNR_min=5,\n",
    "                eline_ANR_min=3,\n",
    "                correct_extinction=True,\n",
    "                debug=False)\n"
   ]
  },
  {
   "cell_type": "code",
   "execution_count": null,
   "metadata": {},
   "outputs": [],
   "source": []
  }
 ],
 "metadata": {
  "kernelspec": {
   "display_name": "spaxelsleuth",
   "language": "python",
   "name": "python3"
  },
  "language_info": {
   "name": "python",
   "version": "3.10.13"
  },
  "orig_nbformat": 4
 },
 "nbformat": 4,
 "nbformat_minor": 2
}
